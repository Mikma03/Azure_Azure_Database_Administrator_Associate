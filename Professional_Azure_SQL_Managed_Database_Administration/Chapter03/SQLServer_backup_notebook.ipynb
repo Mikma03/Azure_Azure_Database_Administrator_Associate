{
    "metadata": {
        "kernelspec": {
            "name": "SQL",
            "display_name": "SQL",
            "language": "sql"
        },
        "language_info": {
            "name": "sql",
            "version": ""
        }
    },
    "nbformat_minor": 2,
    "nbformat": 4,
    "cells": [
        {
            "cell_type": "markdown",
            "source": [
                "# `Perform SQL Server BACKUP TO URL`\n",
                "\n",
                "## `Before creating backup, SQL Server needs to have access to Azure Blob Storage to create backup file. Here we are creating a credential using SHARED ACCESS SIGNATURE (SAS TOKEN). If you are not familiar with generating SAS token, refer to backup chapter for detailed information.`"
            ],
            "metadata": {
                "azdata_cell_guid": "5ad900b3-b3fd-4b34-ae62-c8934f11f283"
            }
        },
        {
            "cell_type": "code",
            "source": [
                "CREATE CREDENTIAL [https://packtsqlmistorage.blob.core.windows.net/backup]\r\n",
                "WITH IDENTITY = 'SHARED ACCESS SIGNATURE'\r\n",
                ", SECRET = 'sv=2019-12-12&ss=bfqt&srt=sco&sp=rwdlacupx&se=2020-10-31T02:50:18Z&st=2020-10-30T18:50:18Z&spr=https&sig=yQP3QsvHFCmYZd8R5vy62fyYWQLNjNFyo9BF9IGniOY%3D'"
            ],
            "metadata": {
                "azdata_cell_guid": "3dd978e4-fbd8-4442-8fc0-3baafd0581b8",
                "tags": []
            },
            "outputs": [
                {
                    "output_type": "display_data",
                    "data": {
                        "text/html": "Commands completed successfully."
                    },
                    "metadata": {}
                },
                {
                    "output_type": "display_data",
                    "data": {
                        "text/html": "Total execution time: 00:00:00.007"
                    },
                    "metadata": {}
                }
            ],
            "execution_count": 1
        },
        {
            "cell_type": "markdown",
            "source": [
                "## `Take toystore Database backup using  BACKUP TO URL command`"
            ],
            "metadata": {
                "azdata_cell_guid": "86fadd72-84f2-4874-97cc-838db3fdfdba"
            }
        },
        {
            "cell_type": "code",
            "source": [
                "BACKUP DATABASE [toystore] TO URL = 'https://packtsqlmistorage.blob.core.windows.net/backup/toystore.bak' WITH COMPRESSION, STATS=10"
            ],
            "metadata": {
                "azdata_cell_guid": "8aaff1cf-a2a0-4691-bd2a-11911bfe9547",
                "tags": []
            },
            "outputs": [
                {
                    "output_type": "display_data",
                    "data": {
                        "text/html": "10 percent processed."
                    },
                    "metadata": {}
                },
                {
                    "output_type": "display_data",
                    "data": {
                        "text/html": "21 percent processed."
                    },
                    "metadata": {}
                },
                {
                    "output_type": "display_data",
                    "data": {
                        "text/html": "32 percent processed."
                    },
                    "metadata": {}
                },
                {
                    "output_type": "display_data",
                    "data": {
                        "text/html": "43 percent processed."
                    },
                    "metadata": {}
                },
                {
                    "output_type": "display_data",
                    "data": {
                        "text/html": "54 percent processed."
                    },
                    "metadata": {}
                },
                {
                    "output_type": "display_data",
                    "data": {
                        "text/html": "65 percent processed."
                    },
                    "metadata": {}
                },
                {
                    "output_type": "display_data",
                    "data": {
                        "text/html": "70 percent processed."
                    },
                    "metadata": {}
                },
                {
                    "output_type": "display_data",
                    "data": {
                        "text/html": "81 percent processed."
                    },
                    "metadata": {}
                },
                {
                    "output_type": "display_data",
                    "data": {
                        "text/html": "92 percent processed."
                    },
                    "metadata": {}
                },
                {
                    "output_type": "display_data",
                    "data": {
                        "text/html": "Processed 2352 pages for database 'toystore', file 'toystore (1)_Data' on file 1."
                    },
                    "metadata": {}
                },
                {
                    "output_type": "display_data",
                    "data": {
                        "text/html": "100 percent processed."
                    },
                    "metadata": {}
                },
                {
                    "output_type": "display_data",
                    "data": {
                        "text/html": "Processed 5 pages for database 'toystore', file 'toystore (1)_Log' on file 1."
                    },
                    "metadata": {}
                },
                {
                    "output_type": "display_data",
                    "data": {
                        "text/html": "BACKUP DATABASE successfully processed 2357 pages in 4.383 seconds (4.200 MB/sec)."
                    },
                    "metadata": {}
                },
                {
                    "output_type": "display_data",
                    "data": {
                        "text/html": "Total execution time: 00:00:07.577"
                    },
                    "metadata": {}
                }
            ],
            "execution_count": 2
        }
    ]
}