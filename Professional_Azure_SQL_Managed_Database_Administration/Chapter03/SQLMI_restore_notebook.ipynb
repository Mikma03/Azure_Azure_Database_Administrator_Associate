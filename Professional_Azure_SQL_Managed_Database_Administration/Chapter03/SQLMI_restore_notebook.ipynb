{
    "metadata": {
        "kernelspec": {
            "name": "SQL",
            "display_name": "SQL",
            "language": "sql"
        },
        "language_info": {
            "name": "sql",
            "version": ""
        }
    },
    "nbformat_minor": 2,
    "nbformat": 4,
    "cells": [
        {
            "cell_type": "markdown",
            "source": [
                "# `Perform RESTORE FROM URL On Azure SQL Managed Instance.`\n",
                "\n",
                "## `Before initiating RESTORE FROM URL command, Azure SQL Managed Instance needs to have access to Azure Blob Storage to access backup file. Here we are creating a credential using SHARED ACCESS SIGNATURE (SAS TOKEN). If you are not familiar with generating SAS token, refer to backup chapter for detailed information.`"
            ],
            "metadata": {
                "azdata_cell_guid": "5ad900b3-b3fd-4b34-ae62-c8934f11f283"
            }
        },
        {
            "cell_type": "code",
            "source": [
                "CREATE CREDENTIAL [https://packtsqlmistorage.blob.core.windows.net/backup]\r\n",
                "WITH IDENTITY = 'SHARED ACCESS SIGNATURE'\r\n",
                ", SECRET = 'sv=2019-12-12&ss=bfqt&srt=sco&sp=rwdlacupx&se=2020-10-31T02:50:18Z&st=2020-10-30T18:50:18Z&spr=https&sig=yQP3QsvHFCmYZd8R5vy62fyYWQLNjNFyo9BF9IGniOY%3D'\r\n",
                "GO"
            ],
            "metadata": {
                "azdata_cell_guid": "3dd978e4-fbd8-4442-8fc0-3baafd0581b8",
                "tags": []
            },
            "outputs": [
                {
                    "output_type": "display_data",
                    "data": {
                        "text/html": "Commands completed successfully."
                    },
                    "metadata": {}
                },
                {
                    "output_type": "display_data",
                    "data": {
                        "text/html": "Total execution time: 00:00:00.247"
                    },
                    "metadata": {}
                }
            ],
            "execution_count": 25
        },
        {
            "cell_type": "markdown",
            "source": [
                "## `RESTORE toystore Database backup using  RESTORE FROM URL command`"
            ],
            "metadata": {
                "azdata_cell_guid": "86fadd72-84f2-4874-97cc-838db3fdfdba"
            }
        },
        {
            "cell_type": "code",
            "source": [
                "RESTORE DATABASE [toystore] FROM URL = 'https://packtsqlmistorage.blob.core.windows.net/backup/toystore.bak'\r\n",
                "GO"
            ],
            "metadata": {
                "azdata_cell_guid": "8aaff1cf-a2a0-4691-bd2a-11911bfe9547",
                "tags": []
            },
            "outputs": [
                {
                    "output_type": "display_data",
                    "data": {
                        "text/html": "Commands completed successfully."
                    },
                    "metadata": {}
                },
                {
                    "output_type": "display_data",
                    "data": {
                        "text/html": "Total execution time: 00:00:20.525"
                    },
                    "metadata": {}
                }
            ],
            "execution_count": 26
        },
        {
            "cell_type": "markdown",
            "source": [
                "## Verify newly restored database"
            ],
            "metadata": {
                "azdata_cell_guid": "512f9a79-6b1f-4159-8e7b-0a557271a6cf"
            }
        },
        {
            "cell_type": "code",
            "source": [
                "SELECT NAME, CREATE_DATE, STATE_DESC FROM SYS.DATABASES WHERE NAME='toystore'\r\n",
                "GO"
            ],
            "metadata": {
                "azdata_cell_guid": "5d4c81d6-82e1-43c2-b6da-0cb8b1b48ff3",
                "tags": []
            },
            "outputs": [
                {
                    "output_type": "display_data",
                    "data": {
                        "text/html": "(1 row affected)"
                    },
                    "metadata": {}
                },
                {
                    "output_type": "display_data",
                    "data": {
                        "text/html": "Total execution time: 00:00:00.240"
                    },
                    "metadata": {}
                },
                {
                    "output_type": "execute_result",
                    "execution_count": 27,
                    "data": {
                        "application/vnd.dataresource+json": {
                            "schema": {
                                "fields": [
                                    {
                                        "name": "NAME"
                                    },
                                    {
                                        "name": "CREATE_DATE"
                                    },
                                    {
                                        "name": "STATE_DESC"
                                    }
                                ]
                            },
                            "data": [
                                {
                                    "0": "toystore",
                                    "1": "2020-10-30 19:35:16.687",
                                    "2": "ONLINE"
                                }
                            ]
                        },
                        "text/html": "<table><tr><th>NAME</th><th>CREATE_DATE</th><th>STATE_DESC</th></tr><tr><td>toystore</td><td>2020-10-30 19:35:16.687</td><td>ONLINE</td></tr></table>"
                    },
                    "metadata": {}
                }
            ],
            "execution_count": 27
        }
    ]
}